{
 "cells": [
  {
   "cell_type": "code",
   "execution_count": null,
   "metadata": {},
   "outputs": [
    {
     "name": "stdout",
     "output_type": "stream",
     "text": [
      "1.30.0\n"
     ]
    }
   ],
   "source": [
    "#basics\n",
    "import importlib\n",
    "import warnings\n",
    "warnings.simplefilter(\"always\") # using \"default\", warnings only appear once\n",
    "import ipdb;\n",
    "import os\n",
    "import numpy as np\n",
    "import pandas as pd\n",
    "# %matplotlib qt\n",
    "import matplotlib.pyplot as plt\n",
    "from tqdm.notebook import tqdm\n",
    "\n",
    "#modelbase\n",
    "import modelbase\n",
    "from modelbase.ode import Simulator\n",
    "from scipy import integrate\n",
    "\n",
    "from importlib.metadata import version\n",
    "print(version(\"modelbase\"))\n",
    "\n",
    "warnings.filterwarnings('once')\n",
    "#warnings.simplefilter(\"error\") #handle warnings as errors (used for DepreactionWarnings)\n",
    "#warnings.simplefilter(\"default\")\n",
    "\n",
    "#plt.style.use(\"./notebook.mplstyle\")"
   ]
  },
  {
   "cell_type": "code",
   "execution_count": 10,
   "metadata": {},
   "outputs": [
    {
     "name": "stdout",
     "output_type": "stream",
     "text": [
      "c:\\Users\\andre\\OneDrive\\Bildung\\3_HHU\\quant_Bio\\6th\\BA\\QTB_modeling\\analyses\n",
      "c:\\Users\\andre\\OneDrive\\Bildung\\3_HHU\\quant_Bio\\6th\\BA\\QTB_modeling\n"
     ]
    }
   ],
   "source": [
    "script_dir = globals().get(\"script_dir\", os.getcwd()) # if script_dir exists, use it, otherwise use cwd\n",
    "print(script_dir)\n",
    "os.chdir(f\"{script_dir}/..\")\n",
    "print(os.getcwd())"
   ]
  },
  {
   "cell_type": "code",
   "execution_count": 11,
   "metadata": {},
   "outputs": [
    {
     "ename": "KeyError",
     "evalue": "\"None of [Index(['v2_to_P700FA-', 'v3_to_P700FA', 'v4_to_P700+FA', 'v5_to_P700FA'], dtype='object')] are in the [columns]\"",
     "output_type": "error",
     "traceback": [
      "\u001b[1;31m---------------------------------------------------------------------------\u001b[0m",
      "\u001b[1;31mKeyError\u001b[0m                                  Traceback (most recent call last)",
      "Cell \u001b[1;32mIn[11], line 8\u001b[0m\n\u001b[0;32m      4\u001b[0m \u001b[38;5;28;01mfrom\u001b[39;00m\u001b[38;5;250m \u001b[39m\u001b[38;5;21;01mmodels\u001b[39;00m\u001b[38;5;250m \u001b[39m\u001b[38;5;28;01mimport\u001b[39;00m get_model\n\u001b[0;32m      6\u001b[0m m \u001b[38;5;241m=\u001b[39m get_model()\n\u001b[1;32m----> 8\u001b[0m stoichio_subset \u001b[38;5;241m=\u001b[39m \u001b[43mm\u001b[49m\u001b[38;5;241;43m.\u001b[39;49m\u001b[43mget_stoichiometric_df\u001b[49m\u001b[43m(\u001b[49m\u001b[43m)\u001b[49m\u001b[38;5;241;43m.\u001b[39;49m\u001b[43mloc\u001b[49m\u001b[43m[\u001b[49m\u001b[43m:\u001b[49m\u001b[43m,\u001b[49m\u001b[43m[\u001b[49m\u001b[38;5;124;43m\"\u001b[39;49m\u001b[38;5;124;43mv2_to_P700FA-\u001b[39;49m\u001b[38;5;124;43m\"\u001b[39;49m\u001b[43m,\u001b[49m\u001b[43m \u001b[49m\u001b[38;5;124;43m\"\u001b[39;49m\u001b[38;5;124;43mv3_to_P700FA\u001b[39;49m\u001b[38;5;124;43m\"\u001b[39;49m\u001b[43m,\u001b[49m\u001b[43m \u001b[49m\u001b[38;5;124;43m\"\u001b[39;49m\u001b[38;5;124;43mv4_to_P700+FA\u001b[39;49m\u001b[38;5;124;43m\"\u001b[39;49m\u001b[43m,\u001b[49m\u001b[43m \u001b[49m\u001b[38;5;124;43m\"\u001b[39;49m\u001b[38;5;124;43mv5_to_P700FA\u001b[39;49m\u001b[38;5;124;43m\"\u001b[39;49m\u001b[43m]\u001b[49m\u001b[43m]\u001b[49m\n\u001b[0;32m      9\u001b[0m stoichio_subset\u001b[38;5;241m.\u001b[39mloc[(stoichio_subset \u001b[38;5;241m!=\u001b[39m \u001b[38;5;241m0\u001b[39m)\u001b[38;5;241m.\u001b[39many(axis\u001b[38;5;241m=\u001b[39m\u001b[38;5;241m1\u001b[39m)]\n",
      "File \u001b[1;32mc:\\Users\\andre\\miniconda3\\envs\\modelbase.1.30.0\\lib\\site-packages\\pandas\\core\\indexing.py:1184\u001b[0m, in \u001b[0;36m_LocationIndexer.__getitem__\u001b[1;34m(self, key)\u001b[0m\n\u001b[0;32m   1182\u001b[0m     \u001b[38;5;28;01mif\u001b[39;00m \u001b[38;5;28mself\u001b[39m\u001b[38;5;241m.\u001b[39m_is_scalar_access(key):\n\u001b[0;32m   1183\u001b[0m         \u001b[38;5;28;01mreturn\u001b[39;00m \u001b[38;5;28mself\u001b[39m\u001b[38;5;241m.\u001b[39mobj\u001b[38;5;241m.\u001b[39m_get_value(\u001b[38;5;241m*\u001b[39mkey, takeable\u001b[38;5;241m=\u001b[39m\u001b[38;5;28mself\u001b[39m\u001b[38;5;241m.\u001b[39m_takeable)\n\u001b[1;32m-> 1184\u001b[0m     \u001b[38;5;28;01mreturn\u001b[39;00m \u001b[38;5;28;43mself\u001b[39;49m\u001b[38;5;241;43m.\u001b[39;49m\u001b[43m_getitem_tuple\u001b[49m\u001b[43m(\u001b[49m\u001b[43mkey\u001b[49m\u001b[43m)\u001b[49m\n\u001b[0;32m   1185\u001b[0m \u001b[38;5;28;01melse\u001b[39;00m:\n\u001b[0;32m   1186\u001b[0m     \u001b[38;5;66;03m# we by definition only have the 0th axis\u001b[39;00m\n\u001b[0;32m   1187\u001b[0m     axis \u001b[38;5;241m=\u001b[39m \u001b[38;5;28mself\u001b[39m\u001b[38;5;241m.\u001b[39maxis \u001b[38;5;129;01mor\u001b[39;00m \u001b[38;5;241m0\u001b[39m\n",
      "File \u001b[1;32mc:\\Users\\andre\\miniconda3\\envs\\modelbase.1.30.0\\lib\\site-packages\\pandas\\core\\indexing.py:1377\u001b[0m, in \u001b[0;36m_LocIndexer._getitem_tuple\u001b[1;34m(self, tup)\u001b[0m\n\u001b[0;32m   1374\u001b[0m \u001b[38;5;28;01mif\u001b[39;00m \u001b[38;5;28mself\u001b[39m\u001b[38;5;241m.\u001b[39m_multi_take_opportunity(tup):\n\u001b[0;32m   1375\u001b[0m     \u001b[38;5;28;01mreturn\u001b[39;00m \u001b[38;5;28mself\u001b[39m\u001b[38;5;241m.\u001b[39m_multi_take(tup)\n\u001b[1;32m-> 1377\u001b[0m \u001b[38;5;28;01mreturn\u001b[39;00m \u001b[38;5;28;43mself\u001b[39;49m\u001b[38;5;241;43m.\u001b[39;49m\u001b[43m_getitem_tuple_same_dim\u001b[49m\u001b[43m(\u001b[49m\u001b[43mtup\u001b[49m\u001b[43m)\u001b[49m\n",
      "File \u001b[1;32mc:\\Users\\andre\\miniconda3\\envs\\modelbase.1.30.0\\lib\\site-packages\\pandas\\core\\indexing.py:1020\u001b[0m, in \u001b[0;36m_LocationIndexer._getitem_tuple_same_dim\u001b[1;34m(self, tup)\u001b[0m\n\u001b[0;32m   1017\u001b[0m \u001b[38;5;28;01mif\u001b[39;00m com\u001b[38;5;241m.\u001b[39mis_null_slice(key):\n\u001b[0;32m   1018\u001b[0m     \u001b[38;5;28;01mcontinue\u001b[39;00m\n\u001b[1;32m-> 1020\u001b[0m retval \u001b[38;5;241m=\u001b[39m \u001b[38;5;28;43mgetattr\u001b[39;49m\u001b[43m(\u001b[49m\u001b[43mretval\u001b[49m\u001b[43m,\u001b[49m\u001b[43m \u001b[49m\u001b[38;5;28;43mself\u001b[39;49m\u001b[38;5;241;43m.\u001b[39;49m\u001b[43mname\u001b[49m\u001b[43m)\u001b[49m\u001b[38;5;241;43m.\u001b[39;49m\u001b[43m_getitem_axis\u001b[49m\u001b[43m(\u001b[49m\u001b[43mkey\u001b[49m\u001b[43m,\u001b[49m\u001b[43m \u001b[49m\u001b[43maxis\u001b[49m\u001b[38;5;241;43m=\u001b[39;49m\u001b[43mi\u001b[49m\u001b[43m)\u001b[49m\n\u001b[0;32m   1021\u001b[0m \u001b[38;5;66;03m# We should never have retval.ndim < self.ndim, as that should\u001b[39;00m\n\u001b[0;32m   1022\u001b[0m \u001b[38;5;66;03m#  be handled by the _getitem_lowerdim call above.\u001b[39;00m\n\u001b[0;32m   1023\u001b[0m \u001b[38;5;28;01massert\u001b[39;00m retval\u001b[38;5;241m.\u001b[39mndim \u001b[38;5;241m==\u001b[39m \u001b[38;5;28mself\u001b[39m\u001b[38;5;241m.\u001b[39mndim\n",
      "File \u001b[1;32mc:\\Users\\andre\\miniconda3\\envs\\modelbase.1.30.0\\lib\\site-packages\\pandas\\core\\indexing.py:1420\u001b[0m, in \u001b[0;36m_LocIndexer._getitem_axis\u001b[1;34m(self, key, axis)\u001b[0m\n\u001b[0;32m   1417\u001b[0m     \u001b[38;5;28;01mif\u001b[39;00m \u001b[38;5;28mhasattr\u001b[39m(key, \u001b[38;5;124m\"\u001b[39m\u001b[38;5;124mndim\u001b[39m\u001b[38;5;124m\"\u001b[39m) \u001b[38;5;129;01mand\u001b[39;00m key\u001b[38;5;241m.\u001b[39mndim \u001b[38;5;241m>\u001b[39m \u001b[38;5;241m1\u001b[39m:\n\u001b[0;32m   1418\u001b[0m         \u001b[38;5;28;01mraise\u001b[39;00m \u001b[38;5;167;01mValueError\u001b[39;00m(\u001b[38;5;124m\"\u001b[39m\u001b[38;5;124mCannot index with multidimensional key\u001b[39m\u001b[38;5;124m\"\u001b[39m)\n\u001b[1;32m-> 1420\u001b[0m     \u001b[38;5;28;01mreturn\u001b[39;00m \u001b[38;5;28;43mself\u001b[39;49m\u001b[38;5;241;43m.\u001b[39;49m\u001b[43m_getitem_iterable\u001b[49m\u001b[43m(\u001b[49m\u001b[43mkey\u001b[49m\u001b[43m,\u001b[49m\u001b[43m \u001b[49m\u001b[43maxis\u001b[49m\u001b[38;5;241;43m=\u001b[39;49m\u001b[43maxis\u001b[49m\u001b[43m)\u001b[49m\n\u001b[0;32m   1422\u001b[0m \u001b[38;5;66;03m# nested tuple slicing\u001b[39;00m\n\u001b[0;32m   1423\u001b[0m \u001b[38;5;28;01mif\u001b[39;00m is_nested_tuple(key, labels):\n",
      "File \u001b[1;32mc:\\Users\\andre\\miniconda3\\envs\\modelbase.1.30.0\\lib\\site-packages\\pandas\\core\\indexing.py:1360\u001b[0m, in \u001b[0;36m_LocIndexer._getitem_iterable\u001b[1;34m(self, key, axis)\u001b[0m\n\u001b[0;32m   1357\u001b[0m \u001b[38;5;28mself\u001b[39m\u001b[38;5;241m.\u001b[39m_validate_key(key, axis)\n\u001b[0;32m   1359\u001b[0m \u001b[38;5;66;03m# A collection of keys\u001b[39;00m\n\u001b[1;32m-> 1360\u001b[0m keyarr, indexer \u001b[38;5;241m=\u001b[39m \u001b[38;5;28;43mself\u001b[39;49m\u001b[38;5;241;43m.\u001b[39;49m\u001b[43m_get_listlike_indexer\u001b[49m\u001b[43m(\u001b[49m\u001b[43mkey\u001b[49m\u001b[43m,\u001b[49m\u001b[43m \u001b[49m\u001b[43maxis\u001b[49m\u001b[43m)\u001b[49m\n\u001b[0;32m   1361\u001b[0m \u001b[38;5;28;01mreturn\u001b[39;00m \u001b[38;5;28mself\u001b[39m\u001b[38;5;241m.\u001b[39mobj\u001b[38;5;241m.\u001b[39m_reindex_with_indexers(\n\u001b[0;32m   1362\u001b[0m     {axis: [keyarr, indexer]}, copy\u001b[38;5;241m=\u001b[39m\u001b[38;5;28;01mTrue\u001b[39;00m, allow_dups\u001b[38;5;241m=\u001b[39m\u001b[38;5;28;01mTrue\u001b[39;00m\n\u001b[0;32m   1363\u001b[0m )\n",
      "File \u001b[1;32mc:\\Users\\andre\\miniconda3\\envs\\modelbase.1.30.0\\lib\\site-packages\\pandas\\core\\indexing.py:1558\u001b[0m, in \u001b[0;36m_LocIndexer._get_listlike_indexer\u001b[1;34m(self, key, axis)\u001b[0m\n\u001b[0;32m   1555\u001b[0m ax \u001b[38;5;241m=\u001b[39m \u001b[38;5;28mself\u001b[39m\u001b[38;5;241m.\u001b[39mobj\u001b[38;5;241m.\u001b[39m_get_axis(axis)\n\u001b[0;32m   1556\u001b[0m axis_name \u001b[38;5;241m=\u001b[39m \u001b[38;5;28mself\u001b[39m\u001b[38;5;241m.\u001b[39mobj\u001b[38;5;241m.\u001b[39m_get_axis_name(axis)\n\u001b[1;32m-> 1558\u001b[0m keyarr, indexer \u001b[38;5;241m=\u001b[39m \u001b[43max\u001b[49m\u001b[38;5;241;43m.\u001b[39;49m\u001b[43m_get_indexer_strict\u001b[49m\u001b[43m(\u001b[49m\u001b[43mkey\u001b[49m\u001b[43m,\u001b[49m\u001b[43m \u001b[49m\u001b[43maxis_name\u001b[49m\u001b[43m)\u001b[49m\n\u001b[0;32m   1560\u001b[0m \u001b[38;5;28;01mreturn\u001b[39;00m keyarr, indexer\n",
      "File \u001b[1;32mc:\\Users\\andre\\miniconda3\\envs\\modelbase.1.30.0\\lib\\site-packages\\pandas\\core\\indexes\\base.py:6200\u001b[0m, in \u001b[0;36mIndex._get_indexer_strict\u001b[1;34m(self, key, axis_name)\u001b[0m\n\u001b[0;32m   6197\u001b[0m \u001b[38;5;28;01melse\u001b[39;00m:\n\u001b[0;32m   6198\u001b[0m     keyarr, indexer, new_indexer \u001b[38;5;241m=\u001b[39m \u001b[38;5;28mself\u001b[39m\u001b[38;5;241m.\u001b[39m_reindex_non_unique(keyarr)\n\u001b[1;32m-> 6200\u001b[0m \u001b[38;5;28;43mself\u001b[39;49m\u001b[38;5;241;43m.\u001b[39;49m\u001b[43m_raise_if_missing\u001b[49m\u001b[43m(\u001b[49m\u001b[43mkeyarr\u001b[49m\u001b[43m,\u001b[49m\u001b[43m \u001b[49m\u001b[43mindexer\u001b[49m\u001b[43m,\u001b[49m\u001b[43m \u001b[49m\u001b[43maxis_name\u001b[49m\u001b[43m)\u001b[49m\n\u001b[0;32m   6202\u001b[0m keyarr \u001b[38;5;241m=\u001b[39m \u001b[38;5;28mself\u001b[39m\u001b[38;5;241m.\u001b[39mtake(indexer)\n\u001b[0;32m   6203\u001b[0m \u001b[38;5;28;01mif\u001b[39;00m \u001b[38;5;28misinstance\u001b[39m(key, Index):\n\u001b[0;32m   6204\u001b[0m     \u001b[38;5;66;03m# GH 42790 - Preserve name from an Index\u001b[39;00m\n",
      "File \u001b[1;32mc:\\Users\\andre\\miniconda3\\envs\\modelbase.1.30.0\\lib\\site-packages\\pandas\\core\\indexes\\base.py:6249\u001b[0m, in \u001b[0;36mIndex._raise_if_missing\u001b[1;34m(self, key, indexer, axis_name)\u001b[0m\n\u001b[0;32m   6247\u001b[0m \u001b[38;5;28;01mif\u001b[39;00m nmissing:\n\u001b[0;32m   6248\u001b[0m     \u001b[38;5;28;01mif\u001b[39;00m nmissing \u001b[38;5;241m==\u001b[39m \u001b[38;5;28mlen\u001b[39m(indexer):\n\u001b[1;32m-> 6249\u001b[0m         \u001b[38;5;28;01mraise\u001b[39;00m \u001b[38;5;167;01mKeyError\u001b[39;00m(\u001b[38;5;124mf\u001b[39m\u001b[38;5;124m\"\u001b[39m\u001b[38;5;124mNone of [\u001b[39m\u001b[38;5;132;01m{\u001b[39;00mkey\u001b[38;5;132;01m}\u001b[39;00m\u001b[38;5;124m] are in the [\u001b[39m\u001b[38;5;132;01m{\u001b[39;00maxis_name\u001b[38;5;132;01m}\u001b[39;00m\u001b[38;5;124m]\u001b[39m\u001b[38;5;124m\"\u001b[39m)\n\u001b[0;32m   6251\u001b[0m     not_found \u001b[38;5;241m=\u001b[39m \u001b[38;5;28mlist\u001b[39m(ensure_index(key)[missing_mask\u001b[38;5;241m.\u001b[39mnonzero()[\u001b[38;5;241m0\u001b[39m]]\u001b[38;5;241m.\u001b[39munique())\n\u001b[0;32m   6252\u001b[0m     \u001b[38;5;28;01mraise\u001b[39;00m \u001b[38;5;167;01mKeyError\u001b[39;00m(\u001b[38;5;124mf\u001b[39m\u001b[38;5;124m\"\u001b[39m\u001b[38;5;132;01m{\u001b[39;00mnot_found\u001b[38;5;132;01m}\u001b[39;00m\u001b[38;5;124m not in index\u001b[39m\u001b[38;5;124m\"\u001b[39m)\n",
      "\u001b[1;31mKeyError\u001b[0m: \"None of [Index(['v2_to_P700FA-', 'v3_to_P700FA', 'v4_to_P700+FA', 'v5_to_P700FA'], dtype='object')] are in the [columns]\""
     ]
    }
   ],
   "source": [
    "#ipdb.set_trace()\n",
    "import models\n",
    "importlib.reload(models)\n",
    "from models import get_model\n",
    "\n",
    "m = get_model()\n",
    "\n",
    "stoichio_subset = m.get_stoichiometric_df().loc[:,[\"v2_to_P700FA-\", \"v3_to_P700FA\", \"v4_to_P700+FA\", \"v5_to_P700FA\"]]\n",
    "stoichio_subset.loc[(stoichio_subset != 0).any(axis=1)]\n"
   ]
  },
  {
   "cell_type": "code",
   "execution_count": 12,
   "metadata": {},
   "outputs": [],
   "source": [
    "y0 = {\n",
    "    \"PQ\": 11.027139850905353,\n",
    "    \"PC\": 1.8895071932002812,\n",
    "    \"Fd\": 3.8690237263896705,\n",
    "    \"ATP\": 1.620195002854852,\n",
    "    \"NADPH\": 0.4882103700673736,\n",
    "    \"H\": 0.0022147075094596015,\n",
    "    \"LHC\": 0.8023074419510501,\n",
    "    \"Psbs\": 0.9607146039898598,\n",
    "    \"Vx\": 0.950783616933656,\n",
    "    \"PGA\": 0.9913970817549008,\n",
    "    \"BPGA\": 0.0005355311557548053,\n",
    "    \"GAP\": 0.0062630116252017295,\n",
    "    \"DHAP\": 0.13778623933075737,\n",
    "    \"FBP\": 0.006126990841013743,\n",
    "    \"F6P\": 0.31166103888161867,\n",
    "    \"G6P\": 0.7168203893211117,\n",
    "    \"G1P\": 0.041575582577936025,\n",
    "    \"SBP\": 0.01311315151803723,\n",
    "    \"S7P\": 0.15782894767619207,\n",
    "    \"E4P\": 0.00732079113061801,\n",
    "    \"X5P\": 0.022396849486562384,\n",
    "    \"R5P\": 0.03751472214765548,\n",
    "    \"RUBP\": 0.13153657267999222,\n",
    "    \"RU5P\": 0.015005888732707041,\n",
    "    \"MDA\": 5.85270097771621e-06,\n",
    "    \"ASC\": 9.999994138785292,\n",
    "    \"H2O2\": 3.4273920330125316e-06,\n",
    "    \"DHA\": 8.513863740903352e-09,\n",
    "    \"GSH\": 9.999999991725186,\n",
    "    \"GSSG\": 4.137406632226743e-09,\n",
    "    \"TR_ox\": 0.9,\n",
    "    \"E_inactive\": 4.7368421052631575,\n",
    "    \"P700FA\": 1,                  #\"PSItot\": 2.5, (in parameter vector of Matuszynska)\n",
    "    \"P700+FA-\": 0.5,\n",
    "    \"P700FA-\": 0.5,\n",
    "}"
   ]
  },
  {
   "cell_type": "code",
   "execution_count": 13,
   "metadata": {},
   "outputs": [
    {
     "name": "stderr",
     "output_type": "stream",
     "text": [
      "DeprecationWarning: Conversion of an array with ndim > 0 to a scalar is deprecated, and will error in future. Ensure you extract a single element from your array before performing this operation. (Deprecated NumPy 1.25.)\n"
     ]
    },
    {
     "data": {
      "application/vnd.microsoft.datawrangler.viewer.v0+json": {
       "columns": [
        {
         "name": "index",
         "rawType": "float64",
         "type": "float"
        },
        {
         "name": "vPS2",
         "rawType": "float64",
         "type": "float"
        },
        {
         "name": "vPS1",
         "rawType": "float64",
         "type": "float"
        },
        {
         "name": "vPTOX",
         "rawType": "float64",
         "type": "float"
        },
        {
         "name": "vNDH",
         "rawType": "float64",
         "type": "float"
        },
        {
         "name": "vB6f",
         "rawType": "float64",
         "type": "float"
        },
        {
         "name": "vCyc",
         "rawType": "float64",
         "type": "float"
        },
        {
         "name": "vFNR",
         "rawType": "float64",
         "type": "float"
        },
        {
         "name": "vLeak",
         "rawType": "float64",
         "type": "float"
        },
        {
         "name": "vSt12",
         "rawType": "float64",
         "type": "float"
        },
        {
         "name": "vSt21",
         "rawType": "float64",
         "type": "float"
        },
        {
         "name": "vATPsynthase",
         "rawType": "float64",
         "type": "float"
        },
        {
         "name": "vDeepox",
         "rawType": "float64",
         "type": "float"
        },
        {
         "name": "vEpox",
         "rawType": "float64",
         "type": "float"
        },
        {
         "name": "vLhcprotonation",
         "rawType": "float64",
         "type": "float"
        },
        {
         "name": "vLhcdeprotonation",
         "rawType": "float64",
         "type": "float"
        },
        {
         "name": "vRuBisCO",
         "rawType": "float64",
         "type": "float"
        },
        {
         "name": "vPGA_kinase",
         "rawType": "float64",
         "type": "float"
        },
        {
         "name": "vBPGA_dehydrogenase",
         "rawType": "float64",
         "type": "float"
        },
        {
         "name": "vTPI",
         "rawType": "float64",
         "type": "float"
        },
        {
         "name": "vAldolase",
         "rawType": "float64",
         "type": "float"
        },
        {
         "name": "vFBPase",
         "rawType": "float64",
         "type": "float"
        },
        {
         "name": "vF6P_Transketolase",
         "rawType": "float64",
         "type": "float"
        },
        {
         "name": "v8",
         "rawType": "float64",
         "type": "float"
        },
        {
         "name": "v9",
         "rawType": "float64",
         "type": "float"
        },
        {
         "name": "v10",
         "rawType": "float64",
         "type": "float"
        },
        {
         "name": "v11",
         "rawType": "float64",
         "type": "float"
        },
        {
         "name": "v12",
         "rawType": "float64",
         "type": "float"
        },
        {
         "name": "v13",
         "rawType": "float64",
         "type": "float"
        },
        {
         "name": "vG6P_isomerase",
         "rawType": "float64",
         "type": "float"
        },
        {
         "name": "vPhosphoglucomutase",
         "rawType": "float64",
         "type": "float"
        },
        {
         "name": "vpga",
         "rawType": "float64",
         "type": "float"
        },
        {
         "name": "vgap",
         "rawType": "float64",
         "type": "float"
        },
        {
         "name": "vdhap",
         "rawType": "float64",
         "type": "float"
        },
        {
         "name": "vStarch",
         "rawType": "float64",
         "type": "float"
        },
        {
         "name": "vAscorbate",
         "rawType": "float64",
         "type": "float"
        },
        {
         "name": "vMDAreduct",
         "rawType": "float64",
         "type": "float"
        },
        {
         "name": "vMehler",
         "rawType": "float64",
         "type": "float"
        },
        {
         "name": "vGR",
         "rawType": "float64",
         "type": "float"
        },
        {
         "name": "vDHAR",
         "rawType": "float64",
         "type": "float"
        },
        {
         "name": "v3ASC",
         "rawType": "float64",
         "type": "float"
        },
        {
         "name": "vEX_ATP",
         "rawType": "float64",
         "type": "float"
        },
        {
         "name": "vEX_NADPH",
         "rawType": "float64",
         "type": "float"
        },
        {
         "name": "vFdTrReductase",
         "rawType": "float64",
         "type": "float"
        },
        {
         "name": "vE_activation",
         "rawType": "float64",
         "type": "float"
        },
        {
         "name": "vE_inactivation",
         "rawType": "float64",
         "type": "float"
        }
       ],
       "conversionMethod": "pd.DataFrame",
       "ref": "c512a4e8-1f77-4c13-8a01-257eee31632d",
       "rows": [
        [
         "0.0",
         "44.16499810391244",
         "115.54823788625185",
         "0.5178288119275718",
         "0.022054279701810706",
         "57.7741190001199",
         "14.104895428432604",
         "43.668030824958045",
         "0.02164350492987835",
         "0.0002570003254274687",
         "0.0002570003254636349",
         "68.44389186500642",
         "1.1811932170649184e-05",
         "1.1811931935922564e-05",
         "0.00037713980170009826",
         "0.0003771398016973464",
         "0.3990162670782944",
         "1.3949915000921465",
         "1.3949914929408902",
         "0.5972247522911811",
         "0.28979244186613795",
         "0.15252233777547278",
         "0.25271030251045046",
         "0.25271030251045046",
         "0.13300542235942256",
         "0.25271030251045046",
         "0.2527103026839228",
         "0.5054206053678456",
         "0.39901626707828886",
         "0.03708215956521599",
         "0.03708215956521599",
         "0.12127032195667055",
         "0.0025536940081302244",
         "0.0547220079372444",
         "0.019516915416092233",
         "0.0023854934577945165",
         "0.002385476330740148",
         "19.469894171670344",
         "1.712705436728101e-08",
         "1.7127054367280784e-08",
         "1.712705436728014e-08",
         "0.3240390005709704",
         "0.09764207401347473",
         "1.0178786462492966",
         "0.47368421052631565",
         "0.12631578947368424"
        ]
       ],
       "shape": {
        "columns": 45,
        "rows": 1
       }
      },
      "text/html": [
       "<div>\n",
       "<style scoped>\n",
       "    .dataframe tbody tr th:only-of-type {\n",
       "        vertical-align: middle;\n",
       "    }\n",
       "\n",
       "    .dataframe tbody tr th {\n",
       "        vertical-align: top;\n",
       "    }\n",
       "\n",
       "    .dataframe thead th {\n",
       "        text-align: right;\n",
       "    }\n",
       "</style>\n",
       "<table border=\"1\" class=\"dataframe\">\n",
       "  <thead>\n",
       "    <tr style=\"text-align: right;\">\n",
       "      <th></th>\n",
       "      <th>vPS2</th>\n",
       "      <th>vPS1</th>\n",
       "      <th>vPTOX</th>\n",
       "      <th>vNDH</th>\n",
       "      <th>vB6f</th>\n",
       "      <th>vCyc</th>\n",
       "      <th>vFNR</th>\n",
       "      <th>vLeak</th>\n",
       "      <th>vSt12</th>\n",
       "      <th>vSt21</th>\n",
       "      <th>...</th>\n",
       "      <th>vMDAreduct</th>\n",
       "      <th>vMehler</th>\n",
       "      <th>vGR</th>\n",
       "      <th>vDHAR</th>\n",
       "      <th>v3ASC</th>\n",
       "      <th>vEX_ATP</th>\n",
       "      <th>vEX_NADPH</th>\n",
       "      <th>vFdTrReductase</th>\n",
       "      <th>vE_activation</th>\n",
       "      <th>vE_inactivation</th>\n",
       "    </tr>\n",
       "  </thead>\n",
       "  <tbody>\n",
       "    <tr>\n",
       "      <th>0.0</th>\n",
       "      <td>44.164998</td>\n",
       "      <td>115.548238</td>\n",
       "      <td>0.517829</td>\n",
       "      <td>0.022054</td>\n",
       "      <td>57.774119</td>\n",
       "      <td>14.104895</td>\n",
       "      <td>43.668031</td>\n",
       "      <td>0.021644</td>\n",
       "      <td>0.000257</td>\n",
       "      <td>0.000257</td>\n",
       "      <td>...</td>\n",
       "      <td>0.002385</td>\n",
       "      <td>19.469894</td>\n",
       "      <td>1.712705e-08</td>\n",
       "      <td>1.712705e-08</td>\n",
       "      <td>1.712705e-08</td>\n",
       "      <td>0.324039</td>\n",
       "      <td>0.097642</td>\n",
       "      <td>1.017879</td>\n",
       "      <td>0.473684</td>\n",
       "      <td>0.126316</td>\n",
       "    </tr>\n",
       "  </tbody>\n",
       "</table>\n",
       "<p>1 rows × 45 columns</p>\n",
       "</div>"
      ],
      "text/plain": [
       "          vPS2        vPS1     vPTOX      vNDH       vB6f       vCyc  \\\n",
       "0.0  44.164998  115.548238  0.517829  0.022054  57.774119  14.104895   \n",
       "\n",
       "          vFNR     vLeak     vSt12     vSt21  ...  vMDAreduct    vMehler  \\\n",
       "0.0  43.668031  0.021644  0.000257  0.000257  ...    0.002385  19.469894   \n",
       "\n",
       "              vGR         vDHAR         v3ASC   vEX_ATP  vEX_NADPH  \\\n",
       "0.0  1.712705e-08  1.712705e-08  1.712705e-08  0.324039   0.097642   \n",
       "\n",
       "     vFdTrReductase  vE_activation  vE_inactivation  \n",
       "0.0        1.017879       0.473684         0.126316  \n",
       "\n",
       "[1 rows x 45 columns]"
      ]
     },
     "execution_count": 13,
     "metadata": {},
     "output_type": "execute_result"
    }
   ],
   "source": [
    "m.get_fluxes_df(y0)"
   ]
  },
  {
   "cell_type": "code",
   "execution_count": null,
   "metadata": {},
   "outputs": [
    {
     "name": "stderr",
     "output_type": "stream",
     "text": [
      "DeprecationWarning: Conversion of an array with ndim > 0 to a scalar is deprecated, and will error in future. Ensure you extract a single element from your array before performing this operation. (Deprecated NumPy 1.25.)\n"
     ]
    }
   ],
   "source": [
    "\n",
    "s = Simulator(m)\n",
    "s.initialise(y0)"
   ]
  },
  {
   "cell_type": "code",
   "execution_count": 18,
   "metadata": {},
   "outputs": [
    {
     "name": "stderr",
     "output_type": "stream",
     "text": [
      "DeprecationWarning: Conversion of an array with ndim > 0 to a scalar is deprecated, and will error in future. Ensure you extract a single element from your array before performing this operation. (Deprecated NumPy 1.25.)\n"
     ]
    },
    {
     "name": "stdout",
     "output_type": "stream",
     "text": [
      "(101, 65)\n"
     ]
    }
   ],
   "source": [
    "interval_length = 10    \n",
    "steps_per_second = 10\n",
    "pfd_light = 1000\n",
    "pfd_dark = 40\n",
    "\n",
    "steps = steps_per_second * interval_length\n",
    "\n",
    "s.update_parameter(\"pfd\", pfd_light)\n",
    "\n",
    "s.simulate(t_end = (1+1) * interval_length, steps = steps)\n",
    "\n",
    "print(s.get_full_results_df().shape)"
   ]
  },
  {
   "cell_type": "code",
   "execution_count": 13,
   "metadata": {},
   "outputs": [
    {
     "name": "stdout",
     "output_type": "stream",
     "text": [
      "dark\n",
      "simulated interval 0\n"
     ]
    },
    {
     "ename": "AttributeError",
     "evalue": "'NoneType' object has no attribute 'shape'",
     "output_type": "error",
     "traceback": [
      "\u001b[1;31m---------------------------------------------------------------------------\u001b[0m",
      "\u001b[1;31mAttributeError\u001b[0m                            Traceback (most recent call last)",
      "Cell \u001b[1;32mIn[13], line 19\u001b[0m\n\u001b[0;32m     17\u001b[0m     s\u001b[38;5;241m.\u001b[39msimulate(t_end \u001b[38;5;241m=\u001b[39m (i\u001b[38;5;241m+\u001b[39m\u001b[38;5;241m1\u001b[39m) \u001b[38;5;241m*\u001b[39m interval_length, steps \u001b[38;5;241m=\u001b[39m steps)\n\u001b[0;32m     18\u001b[0m     \u001b[38;5;28mprint\u001b[39m(\u001b[38;5;124mf\u001b[39m\u001b[38;5;124m\"\u001b[39m\u001b[38;5;124msimulated interval \u001b[39m\u001b[38;5;132;01m{\u001b[39;00mi\u001b[38;5;132;01m}\u001b[39;00m\u001b[38;5;124m\"\u001b[39m)\n\u001b[1;32m---> 19\u001b[0m     \u001b[38;5;28mprint\u001b[39m(\u001b[43ms\u001b[49m\u001b[38;5;241;43m.\u001b[39;49m\u001b[43mget_full_results_df\u001b[49m\u001b[43m(\u001b[49m\u001b[43m)\u001b[49m\u001b[38;5;241;43m.\u001b[39;49m\u001b[43mshape\u001b[49m)\n\u001b[0;32m     21\u001b[0m \u001b[38;5;28mprint\u001b[39m(dark_intervals)\n",
      "\u001b[1;31mAttributeError\u001b[0m: 'NoneType' object has no attribute 'shape'"
     ]
    }
   ],
   "source": [
    "dark_intervals = []\n",
    "interval_length = 200\n",
    "steps_per_second = 10\n",
    "pfd_light = 1000\n",
    "pfd_dark = 40\n",
    "\n",
    "for i in range(0, 4):\n",
    "    steps = steps_per_second * interval_length\n",
    "\n",
    "    if i % 2 == 0: #if i is even\n",
    "        s.update_parameter(\"pfd\", pfd_dark) #do not set to zero\n",
    "        dark_intervals.append([i * interval_length, (i + 1) * interval_length])\n",
    "        print(\"dark\")\n",
    "    else:\n",
    "        s.update_parameter(\"pfd\", pfd_light)\n",
    "        print(\"light\")\n",
    "    s.simulate(t_end = (i+1) * interval_length, steps = steps)\n",
    "    print(f\"simulated interval {i}\")\n",
    "    print(s.get_full_results_df().shape)\n",
    "\n",
    "print(dark_intervals)\n"
   ]
  },
  {
   "cell_type": "code",
   "execution_count": null,
   "metadata": {},
   "outputs": [],
   "source": [
    "results_df = s.get_full_results_df()\n",
    "flux_df = s.get_fluxes_df()\n",
    "\n",
    "#flux_df\n",
    "#results_df"
   ]
  },
  {
   "cell_type": "code",
   "execution_count": null,
   "metadata": {},
   "outputs": [],
   "source": [
    "results_df"
   ]
  },
  {
   "cell_type": "code",
   "execution_count": null,
   "metadata": {},
   "outputs": [],
   "source": [
    "fig, ax = plt.subplots(2, 1, figsize=(15, 8), sharex=True)\n",
    "ax[0].plot(results_df.index, results_df[\"P700FA\"], label=\"P700FA\")\n",
    "ax[0].plot(results_df.index, results_df[\"P700+FA\"], label=\"P700+FA\")\n",
    "ax[0].plot(results_df.index, results_df[\"P700FA-\"], label=\"P700FA-\")\n",
    "ax[0].plot(results_df.index, results_df[\"P700+FA-\"], label=\"P700+FA-\")\n",
    "ax[0].plot(results_df.index, results_df[\"PC\"], label=\"PC\")\n",
    "ax[0].plot(results_df.index, results_df[\"Fd\"], label=\"Fd\")\n",
    "ax[0].legend()\n",
    "\n",
    "ax[1].plot(flux_df.index, flux_df[\"vPS1\"], label=\"vPS1\")\n",
    "ax[1].plot(flux_df.index, flux_df[\"vFdred\"], label=\"vFdred\")\n",
    "#ax[1].plot(flux_df.index, flux_df[\"vPCox\"], label=\"vPCox\")\n",
    "ax[1].legend()\n",
    "\n",
    "\n",
    "for period in dark_intervals:\n",
    "    for i, _ in enumerate(ax):\n",
    "        ax[i].axvspan(period[0], period[1], facecolor='grey', alpha=0.5)\n",
    "\n",
    "for i, _ in enumerate(ax):\n",
    "    ax[i].set_xlim(599.98, 600.08)\n",
    "    ax[i].grid(alpha = 0.5)\n",
    "fig.show()"
   ]
  },
  {
   "cell_type": "code",
   "execution_count": null,
   "metadata": {},
   "outputs": [],
   "source": [
    "folder = \"figures/playground/old_model/PS1_states/\"\n",
    "#name = input(\"Enter the name of the file: \")\n",
    "zoom = \"600\"\n",
    "#zoom = \"broadview\"\n",
    "\n",
    "name = f\"pfd_{pfd_dark}_{pfd_light}__interval_{interval_length}__zoom_{zoom}\"\n",
    "# eg \"200_interval__zoom_600__w_PC_Fd\"\n",
    "os.makedirs(folder, exist_ok=True)\n",
    "fig.savefig(f\"{folder}{name}.png\", pad_inches = 0.1, bbox_inches = \"tight\")"
   ]
  },
  {
   "cell_type": "code",
   "execution_count": null,
   "metadata": {},
   "outputs": [],
   "source": [
    "fig, ax = plt.subplots(2, 1, figsize=(15, 15), sharex=True)\n",
    "ax[0].plot(results_df.index, results_df[\"ATP\"], label=\"ATP\")\n",
    "ax[0].plot(results_df.index, results_df[\"NADPH\"], label=\"NADPH\")\n",
    "ax[0].plot(results_df.index, results_df[\"Psbs\"], label=\"Psbs\")\n",
    "ax[0].plot(results_df.index, results_df[\"H2O2\"], label=\"H2O2\")\n",
    "ax[0].legend()\n",
    "\n",
    "ax[1].plot(flux_df.index, flux_df[\"vPS2\"], label=\"vPS2\")\n",
    "ax[1].plot(flux_df.index, flux_df[\"vCyc\"], label=\"vCyc\")\n",
    "ax[1].plot(flux_df.index, flux_df[\"vRuBisCO\"], label=\"vRubisco\")\n",
    "ax[1].plot(flux_df.index, flux_df[\"vMehler\"], label=\"vMehler\")\n",
    "ax[1].legend()\n",
    "\n",
    "\n",
    "for period in dark_intervals:\n",
    "    for i, _ in enumerate(ax):\n",
    "        ax[i].axvspan(period[0], period[1], facecolor='grey', alpha=0.5)\n",
    "\n",
    "for i, _ in enumerate(ax):\n",
    "    #ax[i].set_xlim(599.98, 600.08)\n",
    "    ax[i].grid(alpha = 0.5)\n",
    "fig.show()"
   ]
  },
  {
   "cell_type": "code",
   "execution_count": 28,
   "metadata": {},
   "outputs": [],
   "source": [
    "folder = \"figures/playground/old_model/general_understanding/\"\n",
    "#name = input(\"Enter the name of the file: \")\n",
    "# eg \"200_interval__zoom_600__w_PC_Fd\"\n",
    "\n",
    "#zoom = \"600\"\n",
    "zoom = \"broadview\"\n",
    "\n",
    "name = f\"pfd_{pfd_dark}_{pfd_light}__interval_{interval_length}__zoom_{zoom}\"\n",
    "\n",
    "os.makedirs(folder, exist_ok=True)\n",
    "fig.savefig(f\"{folder}{name}.png\", pad_inches = 0.1, bbox_inches = \"tight\")"
   ]
  },
  {
   "cell_type": "code",
   "execution_count": 21,
   "metadata": {},
   "outputs": [
    {
     "data": {
      "text/plain": [
       "'c:\\\\Users\\\\andre\\\\OneDrive\\\\Bildung\\\\3_HHU\\\\quant_Bio\\\\6th\\\\BA\\\\QTB_modelling'"
      ]
     },
     "execution_count": 21,
     "metadata": {},
     "output_type": "execute_result"
    }
   ],
   "source": [
    "os.getcwd()"
   ]
  },
  {
   "cell_type": "code",
   "execution_count": null,
   "metadata": {},
   "outputs": [],
   "source": []
  }
 ],
 "metadata": {
  "kernelspec": {
   "display_name": "modelbase.1.30.0",
   "language": "python",
   "name": "python3"
  },
  "language_info": {
   "codemirror_mode": {
    "name": "ipython",
    "version": 3
   },
   "file_extension": ".py",
   "mimetype": "text/x-python",
   "name": "python",
   "nbconvert_exporter": "python",
   "pygments_lexer": "ipython3",
   "version": "3.9.21"
  },
  "toc": {
   "base_numbering": 1,
   "nav_menu": {},
   "number_sections": true,
   "sideBar": true,
   "skip_h1_title": false,
   "title_cell": "Table of Contents",
   "title_sidebar": "Contents",
   "toc_cell": false,
   "toc_position": {},
   "toc_section_display": true,
   "toc_window_display": false
  }
 },
 "nbformat": 4,
 "nbformat_minor": 4
}
