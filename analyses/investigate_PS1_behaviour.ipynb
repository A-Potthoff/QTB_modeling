{
 "cells": [
  {
   "cell_type": "code",
   "execution_count": 1,
   "metadata": {},
   "outputs": [
    {
     "name": "stderr",
     "output_type": "stream",
     "text": [
      "Could not find cannot import name 'dopri5' from 'assimulo.lib' (c:\\Users\\andre\\miniconda3\\envs\\modelbase.1.30.0\\lib\\site-packages\\assimulo\\lib\\__init__.py)\n",
      "Could not find cannot import name 'rodas' from 'assimulo.lib' (c:\\Users\\andre\\miniconda3\\envs\\modelbase.1.30.0\\lib\\site-packages\\assimulo\\lib\\__init__.py)\n",
      "Could not find cannot import name 'odassl' from 'assimulo.lib' (c:\\Users\\andre\\miniconda3\\envs\\modelbase.1.30.0\\lib\\site-packages\\assimulo\\lib\\__init__.py)\n",
      "Could not find ODEPACK functions.\n",
      "Could not find RADAR5\n",
      "Could not find GLIMDA.\n"
     ]
    },
    {
     "name": "stdout",
     "output_type": "stream",
     "text": [
      "1.30.0\n",
      "c:\\Users\\andre\\OneDrive\\Bildung\\3_HHU\\quant_Bio\\6th\\BA\\QTB_modeling\\analyses\n",
      "c:\\Users\\andre\\OneDrive\\Bildung\\3_HHU\\quant_Bio\\6th\\BA\\QTB_modeling\n"
     ]
    },
    {
     "data": {
      "application/vnd.microsoft.datawrangler.viewer.v0+json": {
       "columns": [
        {
         "name": "index",
         "rawType": "object",
         "type": "string"
        },
        {
         "name": "v2_to_P700FA-",
         "rawType": "float64",
         "type": "float"
        },
        {
         "name": "v3_to_P700FA",
         "rawType": "float64",
         "type": "float"
        },
        {
         "name": "v4_to_P700+FA",
         "rawType": "float64",
         "type": "float"
        },
        {
         "name": "v5_to_P700FA",
         "rawType": "float64",
         "type": "float"
        }
       ],
       "conversionMethod": "pd.DataFrame",
       "ref": "ab501f3f-831e-49aa-9ef4-4e66e507a99b",
       "rows": [
        [
         "Fd",
         "0.0",
         "-1.0",
         "-1.0",
         "0.0"
        ],
        [
         "P700+FA-",
         "-1.0",
         "0.0",
         "-1.0",
         "0.0"
        ],
        [
         "P700FA",
         "0.0",
         "1.0",
         "0.0",
         "1.0"
        ],
        [
         "P700FA-",
         "1.0",
         "-1.0",
         "0.0",
         "0.0"
        ],
        [
         "PC",
         "1.0",
         "0.0",
         "0.0",
         "1.0"
        ]
       ],
       "shape": {
        "columns": 4,
        "rows": 5
       }
      },
      "text/html": [
       "<div>\n",
       "<style scoped>\n",
       "    .dataframe tbody tr th:only-of-type {\n",
       "        vertical-align: middle;\n",
       "    }\n",
       "\n",
       "    .dataframe tbody tr th {\n",
       "        vertical-align: top;\n",
       "    }\n",
       "\n",
       "    .dataframe thead th {\n",
       "        text-align: right;\n",
       "    }\n",
       "</style>\n",
       "<table border=\"1\" class=\"dataframe\">\n",
       "  <thead>\n",
       "    <tr style=\"text-align: right;\">\n",
       "      <th></th>\n",
       "      <th>v2_to_P700FA-</th>\n",
       "      <th>v3_to_P700FA</th>\n",
       "      <th>v4_to_P700+FA</th>\n",
       "      <th>v5_to_P700FA</th>\n",
       "    </tr>\n",
       "  </thead>\n",
       "  <tbody>\n",
       "    <tr>\n",
       "      <th>Fd</th>\n",
       "      <td>0.0</td>\n",
       "      <td>-1.0</td>\n",
       "      <td>-1.0</td>\n",
       "      <td>0.0</td>\n",
       "    </tr>\n",
       "    <tr>\n",
       "      <th>P700+FA-</th>\n",
       "      <td>-1.0</td>\n",
       "      <td>0.0</td>\n",
       "      <td>-1.0</td>\n",
       "      <td>0.0</td>\n",
       "    </tr>\n",
       "    <tr>\n",
       "      <th>P700FA</th>\n",
       "      <td>0.0</td>\n",
       "      <td>1.0</td>\n",
       "      <td>0.0</td>\n",
       "      <td>1.0</td>\n",
       "    </tr>\n",
       "    <tr>\n",
       "      <th>P700FA-</th>\n",
       "      <td>1.0</td>\n",
       "      <td>-1.0</td>\n",
       "      <td>0.0</td>\n",
       "      <td>0.0</td>\n",
       "    </tr>\n",
       "    <tr>\n",
       "      <th>PC</th>\n",
       "      <td>1.0</td>\n",
       "      <td>0.0</td>\n",
       "      <td>0.0</td>\n",
       "      <td>1.0</td>\n",
       "    </tr>\n",
       "  </tbody>\n",
       "</table>\n",
       "</div>"
      ],
      "text/plain": [
       "          v2_to_P700FA-  v3_to_P700FA  v4_to_P700+FA  v5_to_P700FA\n",
       "Fd                  0.0          -1.0           -1.0           0.0\n",
       "P700+FA-           -1.0           0.0           -1.0           0.0\n",
       "P700FA              0.0           1.0            0.0           1.0\n",
       "P700FA-             1.0          -1.0            0.0           0.0\n",
       "PC                  1.0           0.0            0.0           1.0"
      ]
     },
     "execution_count": 1,
     "metadata": {},
     "output_type": "execute_result"
    }
   ],
   "source": [
    "# basics\n",
    "import os\n",
    "import numpy as np\n",
    "import pandas as pd\n",
    "import matplotlib\n",
    "import matplotlib.pyplot as plt\n",
    "from collections import OrderedDict\n",
    "\n",
    "\n",
    "# warnings and debugging\n",
    "import importlib\n",
    "import ipdb; #ipdb.set_trace()\n",
    "\n",
    "import warnings\n",
    "warnings.filterwarnings(\"once\")  # Ensures warnings appear on every cell run\n",
    "#warnings.simplefilter(\"once\")\n",
    "#warnings.simplefilter(\"error\") #handle warnings as errors (used for DepreactionWarnings)\n",
    "#warnings.simplefilter(\"default\")\n",
    "\n",
    "\n",
    "# modelbase\n",
    "import modelbase\n",
    "from modelbase.ode import Simulator\n",
    "from scipy import integrate\n",
    "\n",
    "print(importlib.metadata.version(\"modelbase\"))\n",
    "\n",
    "# working directory\n",
    "script_dir = globals().get(\"script_dir\", os.getcwd()) # if script_dir exists, use it, otherwise use cwd\n",
    "print(script_dir)\n",
    "os.chdir(f\"{script_dir}/..\")\n",
    "print(os.getcwd())\n",
    "\n",
    "\n",
    "colours = OrderedDict({\"blue\": \"#377EB8\",   \"orange\": \"#FF7F00\",\n",
    "                        \"green\": \"#1A4D2E\", \"pink\": \"#E6518C\",\n",
    "                        \"purple\": \"#984EA3\",\"red\": \"#E41A1C\",\n",
    "                        \"brown\": \"#A65628\", \"grey\": \"#999999\"})\n",
    "colors = list(colours.values())\n",
    "\n",
    "\n",
    "# load photosynthesis model\n",
    "import models\n",
    "importlib.reload(models)\n",
    "from models import get_model\n",
    "\n",
    "m = get_model()\n",
    "\n",
    "# check implementation of the model\n",
    "stoichio_subset = m.get_stoichiometric_df().loc[:,[\"v2_to_P700FA-\", \"v3_to_P700FA\", \"v4_to_P700+FA\", \"v5_to_P700FA\"]]\n",
    "stoichio_subset.loc[(stoichio_subset != 0).any(axis=1)]\n"
   ]
  },
  {
   "cell_type": "code",
   "execution_count": 2,
   "metadata": {},
   "outputs": [],
   "source": [
    "y0 = {\n",
    "    \"PQ\": 11.027139850905353,\n",
    "    \"PC\": 1.8895071932002812,\n",
    "    \"Fd\": 3.8690237263896705,\n",
    "    \"ATP\": 1.620195002854852,\n",
    "    \"NADPH\": 0.4882103700673736,\n",
    "    \"H\": 0.0022147075094596015,\n",
    "    \"LHC\": 0.8023074419510501,\n",
    "    \"Psbs\": 0.9607146039898598,\n",
    "    \"Vx\": 0.950783616933656,\n",
    "    \"PGA\": 0.9913970817549008,\n",
    "    \"BPGA\": 0.0005355311557548053,\n",
    "    \"GAP\": 0.0062630116252017295,\n",
    "    \"DHAP\": 0.13778623933075737,\n",
    "    \"FBP\": 0.006126990841013743,\n",
    "    \"F6P\": 0.31166103888161867,\n",
    "    \"G6P\": 0.7168203893211117,\n",
    "    \"G1P\": 0.041575582577936025,\n",
    "    \"SBP\": 0.01311315151803723,\n",
    "    \"S7P\": 0.15782894767619207,\n",
    "    \"E4P\": 0.00732079113061801,\n",
    "    \"X5P\": 0.022396849486562384,\n",
    "    \"R5P\": 0.03751472214765548,\n",
    "    \"RUBP\": 0.13153657267999222,\n",
    "    \"RU5P\": 0.015005888732707041,\n",
    "    \"MDA\": 5.85270097771621e-06,\n",
    "    \"ASC\": 9.999994138785292,\n",
    "    \"H2O2\": 3.4273920330125316e-06,\n",
    "    \"DHA\": 8.513863740903352e-09,\n",
    "    \"GSH\": 9.999999991725186,\n",
    "    \"GSSG\": 4.137406632226743e-09,\n",
    "    \"TR_ox\": 0.9,\n",
    "    \"E_inactive\": 4.7368421052631575,\n",
    "    \"P700FA\": 1.4731,            #eq at pfd 800       #\"PSItot\": 2.5, (in parameter vector of Matuszynska)\n",
    "    \"P700+FA-\": 0.0131,\n",
    "    \"P700FA-\": 0.0177,\n",
    "}\n",
    "\n",
    "s = Simulator(m)"
   ]
  },
  {
   "cell_type": "code",
   "execution_count": null,
   "metadata": {},
   "outputs": [
    {
     "name": "stderr",
     "output_type": "stream",
     "text": [
      "DeprecationWarning: Conversion of an array with ndim > 0 to a scalar is deprecated, and will error in future. Ensure you extract a single element from your array before performing this operation. (Deprecated NumPy 1.25.)\n"
     ]
    },
    {
     "ename": "AttributeError",
     "evalue": "'NoneType' object has no attribute 'iloc'",
     "output_type": "error",
     "traceback": [
      "\u001b[1;31m---------------------------------------------------------------------------\u001b[0m",
      "\u001b[1;31mAttributeError\u001b[0m                            Traceback (most recent call last)",
      "Cell \u001b[1;32mIn[3], line 14\u001b[0m\n\u001b[0;32m     12\u001b[0m     s\u001b[38;5;241m.\u001b[39minitialise(y1)\n\u001b[0;32m     13\u001b[0m     \u001b[38;5;28;01mreturn\u001b[39;00m y1\n\u001b[1;32m---> 14\u001b[0m y1 \u001b[38;5;241m=\u001b[39m \u001b[43mrun_to_equilibrium\u001b[49m\u001b[43m(\u001b[49m\u001b[43ms\u001b[49m\u001b[43m,\u001b[49m\u001b[43m \u001b[49m\u001b[43my0\u001b[49m\u001b[43m)\u001b[49m\n",
      "Cell \u001b[1;32mIn[3], line 11\u001b[0m, in \u001b[0;36mrun_to_equilibrium\u001b[1;34m(s, y0, pfd)\u001b[0m\n\u001b[0;32m      7\u001b[0m s\u001b[38;5;241m.\u001b[39mupdate_parameter(\u001b[38;5;124m\"\u001b[39m\u001b[38;5;124mpfd\u001b[39m\u001b[38;5;124m\"\u001b[39m, pfd)\n\u001b[0;32m      9\u001b[0m s\u001b[38;5;241m.\u001b[39msimulate(t_end \u001b[38;5;241m=\u001b[39m \u001b[38;5;241m100000\u001b[39m, steps \u001b[38;5;241m=\u001b[39m \u001b[38;5;241m500\u001b[39m)\n\u001b[1;32m---> 11\u001b[0m y1 \u001b[38;5;241m=\u001b[39m \u001b[43mget_new_y0\u001b[49m\u001b[43m(\u001b[49m\u001b[43ms\u001b[49m\u001b[43m)\u001b[49m\n\u001b[0;32m     12\u001b[0m s\u001b[38;5;241m.\u001b[39minitialise(y1)\n\u001b[0;32m     13\u001b[0m \u001b[38;5;28;01mreturn\u001b[39;00m y1\n",
      "Cell \u001b[1;32mIn[3], line 4\u001b[0m, in \u001b[0;36mrun_to_equilibrium.<locals>.get_new_y0\u001b[1;34m(s)\u001b[0m\n\u001b[0;32m      3\u001b[0m \u001b[38;5;28;01mdef\u001b[39;00m\u001b[38;5;250m \u001b[39m\u001b[38;5;21mget_new_y0\u001b[39m(s):\n\u001b[1;32m----> 4\u001b[0m     \u001b[38;5;28;01mreturn\u001b[39;00m \u001b[38;5;28mdict\u001b[39m(\u001b[43ms\u001b[49m\u001b[38;5;241;43m.\u001b[39;49m\u001b[43mget_results_df\u001b[49m\u001b[43m(\u001b[49m\u001b[43m)\u001b[49m\u001b[38;5;241;43m.\u001b[39;49m\u001b[43miloc\u001b[49m[\u001b[38;5;241m-\u001b[39m\u001b[38;5;241m1\u001b[39m])\n",
      "\u001b[1;31mAttributeError\u001b[0m: 'NoneType' object has no attribute 'iloc'"
     ]
    }
   ],
   "source": [
    "def get_new_y0(s):\n",
    "    return dict(s.get_results_df().iloc[-1])\n",
    "\n",
    "def run_to_equilibrium(s, y0, pfd = 800):\n",
    "    \n",
    "    s.initialise(y0)\n",
    "    s.update_parameter(\"pfd\", pfd)\n",
    "\n",
    "    s.simulate(t_end = 100000, steps = 500)\n",
    "\n",
    "    y1 = get_new_y0(s)\n",
    "    s.initialise(y1)\n",
    "    return y1\n",
    "y1 = run_to_equilibrium(s, y0)"
   ]
  },
  {
   "cell_type": "code",
   "execution_count": 4,
   "metadata": {},
   "outputs": [
    {
     "name": "stderr",
     "output_type": "stream",
     "text": [
      "DeprecationWarning: Conversion of an array with ndim > 0 to a scalar is deprecated, and will error in future. Ensure you extract a single element from your array before performing this operation. (Deprecated NumPy 1.25.)\n"
     ]
    },
    {
     "name": "stdout",
     "output_type": "stream",
     "text": [
      "dark\n",
      "simulated interval 0\n",
      "light\n",
      "simulated interval 1\n",
      "dark\n",
      "simulated interval 2\n",
      "light\n",
      "simulated interval 3\n",
      "fetched results\n"
     ]
    }
   ],
   "source": [
    "s.initialise(y0)\n",
    "\n",
    "dark_intervals = []\n",
    "interval_length = 200\n",
    "steps_per_second = 500\n",
    "pfd_light = 1000\n",
    "pfd_dark = 40\n",
    "\n",
    "for i in range(0, 4):\n",
    "    steps = steps_per_second * interval_length\n",
    "\n",
    "    if i % 2 == 0: #if i is even\n",
    "        s.update_parameter(\"pfd\", pfd_dark) #do not set to zero\n",
    "        dark_intervals.append([i * interval_length, (i + 1) * interval_length])\n",
    "        print(\"dark\")\n",
    "    else:\n",
    "        s.update_parameter(\"pfd\", pfd_light)\n",
    "        print(\"light\")\n",
    "    s.simulate(t_end = (i+1) * interval_length, steps = steps)\n",
    "    print(f\"simulated interval {i}\")\n",
    "    #print(s.get_full_results_df().shape)\n",
    "\n",
    "results_df = s.get_full_results_df()\n",
    "fluxes_df = s.get_fluxes_df()\n",
    "print(\"fetched results\")\n"
   ]
  },
  {
   "cell_type": "code",
   "execution_count": 6,
   "metadata": {},
   "outputs": [
    {
     "ename": "AttributeError",
     "evalue": "'NoneType' object has no attribute 'loc'",
     "output_type": "error",
     "traceback": [
      "\u001b[1;31m---------------------------------------------------------------------------\u001b[0m",
      "\u001b[1;31mAttributeError\u001b[0m                            Traceback (most recent call last)",
      "Cell \u001b[1;32mIn[6], line 1\u001b[0m\n\u001b[1;32m----> 1\u001b[0m \u001b[43mresults_df\u001b[49m\u001b[38;5;241;43m.\u001b[39;49m\u001b[43mloc\u001b[49m[:,[\u001b[38;5;124m\"\u001b[39m\u001b[38;5;124mP700FA\u001b[39m\u001b[38;5;124m\"\u001b[39m, \u001b[38;5;124m\"\u001b[39m\u001b[38;5;124mP700+FA-\u001b[39m\u001b[38;5;124m\"\u001b[39m, \u001b[38;5;124m\"\u001b[39m\u001b[38;5;124mP700FA-\u001b[39m\u001b[38;5;124m\"\u001b[39m, \u001b[38;5;124m\"\u001b[39m\u001b[38;5;124mP700+FA\u001b[39m\u001b[38;5;124m\"\u001b[39m]]\u001b[38;5;241m.\u001b[39mplot()\n",
      "\u001b[1;31mAttributeError\u001b[0m: 'NoneType' object has no attribute 'loc'"
     ]
    }
   ],
   "source": [
    "results_df.loc[:,[\"P700FA\", \"P700+FA-\", \"P700FA-\", \"P700+FA\"]].plot()"
   ]
  },
  {
   "cell_type": "code",
   "execution_count": 5,
   "metadata": {},
   "outputs": [
    {
     "ename": "AttributeError",
     "evalue": "'NoneType' object has no attribute 'copy'",
     "output_type": "error",
     "traceback": [
      "\u001b[1;31m---------------------------------------------------------------------------\u001b[0m",
      "\u001b[1;31mAttributeError\u001b[0m                            Traceback (most recent call last)",
      "Cell \u001b[1;32mIn[5], line 3\u001b[0m\n\u001b[0;32m      1\u001b[0m fig, ax \u001b[38;5;241m=\u001b[39m plt\u001b[38;5;241m.\u001b[39msubplots(\u001b[38;5;241m2\u001b[39m, \u001b[38;5;241m1\u001b[39m, figsize\u001b[38;5;241m=\u001b[39m(\u001b[38;5;241m15\u001b[39m, \u001b[38;5;241m8\u001b[39m), sharex\u001b[38;5;241m=\u001b[39m\u001b[38;5;28;01mTrue\u001b[39;00m)\n\u001b[1;32m----> 3\u001b[0m results_pdf \u001b[38;5;241m=\u001b[39m \u001b[43mresults_df\u001b[49m\u001b[38;5;241;43m.\u001b[39;49m\u001b[43mcopy\u001b[49m()\n\u001b[0;32m      4\u001b[0m fluxes_pdf \u001b[38;5;241m=\u001b[39m fluxes_df\u001b[38;5;241m.\u001b[39mcopy()\n\u001b[0;32m      6\u001b[0m fluxes_pdf\u001b[38;5;241m.\u001b[39mindex \u001b[38;5;241m=\u001b[39m fluxes_df\u001b[38;5;241m.\u001b[39mindex \u001b[38;5;241m-\u001b[39m \u001b[38;5;241m600\u001b[39m\n",
      "\u001b[1;31mAttributeError\u001b[0m: 'NoneType' object has no attribute 'copy'"
     ]
    },
    {
     "data": {
      "image/png": "[encoded data removed]",
      "text/plain": [
       "<Figure size 1500x800 with 2 Axes>"
      ]
     },
     "metadata": {},
     "output_type": "display_data"
    }
   ],
   "source": [
    "fig, ax = plt.subplots(2, 1, figsize=(15, 8), sharex=True)\n",
    "\n",
    "results_pdf = results_df.copy()\n",
    "fluxes_pdf = fluxes_df.copy()\n",
    "\n",
    "fluxes_pdf.index = fluxes_df.index - 600\n",
    "results_pdf.index = results_df.index - 600\n",
    "dark_intervals_p = [[i - 600 for i in interval] for interval in dark_intervals]\n",
    "\n",
    "ax[0].plot(results_pdf.index, results_pdf[\"rel_P700FA\"  ], label=\"P700FA\"  , color = colors[0])\n",
    "ax[0].plot(results_pdf.index, results_pdf[\"rel_P700+FA\" ], label=\"P700+FA\" , color = colors[1])\n",
    "ax[0].plot(results_pdf.index, results_pdf[\"rel_P700FA-\" ], label=\"P700FA-\" , color = colors[2])\n",
    "ax[0].plot(results_pdf.index, results_pdf[\"rel_P700+FA-\"], label=\"P700+FA-\", color = colors[3])\n",
    "ax[0].plot(results_pdf.index, results_pdf[\"PC_redoxstate\"], label=\"%PC_red\", color = colors[4])\n",
    "ax[0].plot(results_pdf.index, results_pdf[\"Fd_redoxstate\"], label=\"%Fd_red\", color = colors[5])\n",
    "ax[0].legend(loc=\"upper right\")\n",
    "\n",
    "ax[1].plot(fluxes_pdf.index, fluxes_pdf[\"vPS1\"], label=\"vPS1\", color = colors[0])\n",
    "ax[1].plot(fluxes_pdf.index, fluxes_pdf[\"v2_to_P700FA-\"], label=\"v2_to_P700FA-\", color = colors[1])\n",
    "ax[1].plot(fluxes_pdf.index, fluxes_pdf[\"v3_to_P700FA\"], label=\"v3_to_P700FA\",   color = colors[2])\n",
    "ax[1].plot(fluxes_pdf.index, fluxes_pdf[\"v4_to_P700+FA\"], label=\"v4_to_P700+FA\", color = colors[3])\n",
    "ax[1].plot(fluxes_pdf.index, fluxes_pdf[\"v5_to_P700FA\"], label=\"v5_to_P700FA\",   color = colors[4])\n",
    "ax[1].set_yscale(\"log\")\n",
    "ax[1].legend(loc=\"upper right\")\n",
    "\n",
    "\n",
    "for period in dark_intervals_p:\n",
    "    for i, _ in enumerate(ax):\n",
    "        ax[i].axvspan(period[0], period[1], facecolor='grey', alpha=0.5)\n",
    "\n",
    "for i, _ in enumerate(ax):\n",
    "    ax[i].set_xlim(-0.01, 0.5)\n",
    "    ax[i].grid(alpha = 0.5)\n",
    "\n",
    "\n",
    "#ax[0].set_xscale(\"symlog\", base=10)\n",
    "#ax[i].set_xlim(-.1, 200)\n",
    "#ax[1].set_xscale(\"symlog\")\n",
    "\n",
    "fig.show()"
   ]
  },
  {
   "cell_type": "code",
   "execution_count": 14,
   "metadata": {},
   "outputs": [],
   "source": [
    "folder = \"figures/playground/new_model/PS1_states/\"\n",
    "#name = input(\"Enter the name of the file: \")\n",
    "zoom = \"600broad\"\n",
    "#zoom = \"broadview\"\n",
    "\n",
    "name = f\"pfd_{pfd_dark}_{pfd_light}__interval_{interval_length}__zoom_{zoom}\"\n",
    "# eg \"200_interval__zoom_600__w_PC_Fd\"\n",
    "os.makedirs(folder, exist_ok=True)\n",
    "fig.savefig(f\"{folder}{name}.png\", pad_inches = 0.1, bbox_inches = \"tight\")"
   ]
  },
  {
   "cell_type": "code",
   "execution_count": 15,
   "metadata": {},
   "outputs": [
    {
     "name": "stderr",
     "output_type": "stream",
     "text": [
      "UserWarning: FigureCanvasAgg is non-interactive, and thus cannot be shown\n"
     ]
    },
    {
     "data": {
      "image/png": "[encoded data removed]",
      "text/plain": [
       "<Figure size 1500x800 with 2 Axes>"
      ]
     },
     "metadata": {},
     "output_type": "display_data"
    }
   ],
   "source": [
    "fig, ax = plt.subplots(2, 1, figsize=(15, 8), sharex=True)\n",
    "ax[0].plot(results_df.index, results_df[\"ATP\"], label=\"ATP\")\n",
    "ax[0].plot(results_df.index, results_df[\"NADPH\"], label=\"NADPH\")\n",
    "ax[0].plot(results_df.index, results_df[\"Psbs\"], label=\"Psbs\")\n",
    "ax[0].plot(results_df.index, results_df[\"H2O2\"], label=\"H2O2\")\n",
    "ax[0].legend()\n",
    "\n",
    "ax[1].plot(flux_df.index, flux_df[\"vPS2\"], label=\"vPS2\")\n",
    "ax[1].plot(flux_df.index, flux_df[\"vCyc\"], label=\"vCyc\")\n",
    "ax[1].plot(flux_df.index, flux_df[\"vRuBisCO\"], label=\"vRubisco\")\n",
    "ax[1].plot(flux_df.index, flux_df[\"vMehler\"], label=\"vMehler\")\n",
    "ax[1].legend()\n",
    "ax[1].set_yscale(\"log\")\n",
    "\n",
    "\n",
    "for period in dark_intervals:\n",
    "    for i, _ in enumerate(ax):\n",
    "        ax[i].axvspan(period[0], period[1], facecolor='grey', alpha=0.5)\n",
    "\n",
    "for i, _ in enumerate(ax):\n",
    "    ax[i].set_xlim(599, 630)\n",
    "    ax[i].grid(alpha = 0.5)\n",
    "fig.show()"
   ]
  },
  {
   "cell_type": "code",
   "execution_count": 16,
   "metadata": {},
   "outputs": [],
   "source": [
    "folder = \"figures/playground/new_model/general/\"\n",
    "#name = input(\"Enter the name of the file: \")\n",
    "# eg \"200_interval__zoom_600__w_PC_Fd\"\n",
    "\n",
    "zoom = \"600broad\"\n",
    "#zoom = \"broadview\"\n",
    "\n",
    "name = f\"pfd_{pfd_dark}_{pfd_light}__interval_{interval_length}__zoom_{zoom}\"\n",
    "\n",
    "os.makedirs(folder, exist_ok=True)\n",
    "fig.savefig(f\"{folder}{name}.png\", pad_inches = 0.1, bbox_inches = \"tight\")"
   ]
  },
  {
   "cell_type": "code",
   "execution_count": 21,
   "metadata": {},
   "outputs": [
    {
     "data": {
      "text/plain": [
       "'c:\\\\Users\\\\andre\\\\OneDrive\\\\Bildung\\\\3_HHU\\\\quant_Bio\\\\6th\\\\BA\\\\QTB_modelling'"
      ]
     },
     "execution_count": 21,
     "metadata": {},
     "output_type": "execute_result"
    }
   ],
   "source": [
    "os.getcwd()"
   ]
  },
  {
   "cell_type": "code",
   "execution_count": null,
   "metadata": {},
   "outputs": [],
   "source": []
  }
 ],
 "metadata": {
  "kernelspec": {
   "display_name": "modelbase.1.30.0",
   "language": "python",
   "name": "python3"
  },
  "language_info": {
   "codemirror_mode": {
    "name": "ipython",
    "version": 3
   },
   "file_extension": ".py",
   "mimetype": "text/x-python",
   "name": "python",
   "nbconvert_exporter": "python",
   "pygments_lexer": "ipython3",
   "version": "3.9.21"
  },
  "toc": {
   "base_numbering": 1,
   "nav_menu": {},
   "number_sections": true,
   "sideBar": true,
   "skip_h1_title": false,
   "title_cell": "Table of Contents",
   "title_sidebar": "Contents",
   "toc_cell": false,
   "toc_position": {},
   "toc_section_display": true,
   "toc_window_display": false
  }
 },
 "nbformat": 4,
 "nbformat_minor": 4
}
