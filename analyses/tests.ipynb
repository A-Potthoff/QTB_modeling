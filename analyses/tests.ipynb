{
 "cells": [
  {
   "cell_type": "code",
   "execution_count": 1,
   "metadata": {},
   "outputs": [
    {
     "name": "stdout",
     "output_type": "stream",
     "text": [
      "Running the header\n"
     ]
    },
    {
     "name": "stderr",
     "output_type": "stream",
     "text": [
      "Could not find cannot import name 'dopri5' from 'assimulo.lib' (c:\\Users\\andre\\miniconda3\\envs\\modelbase.1.30.0\\lib\\site-packages\\assimulo\\lib\\__init__.py)\n",
      "Could not find cannot import name 'rodas' from 'assimulo.lib' (c:\\Users\\andre\\miniconda3\\envs\\modelbase.1.30.0\\lib\\site-packages\\assimulo\\lib\\__init__.py)\n",
      "Could not find cannot import name 'odassl' from 'assimulo.lib' (c:\\Users\\andre\\miniconda3\\envs\\modelbase.1.30.0\\lib\\site-packages\\assimulo\\lib\\__init__.py)\n",
      "Could not find ODEPACK functions.\n",
      "Could not find RADAR5\n",
      "Could not find GLIMDA.\n"
     ]
    },
    {
     "name": "stdout",
     "output_type": "stream",
     "text": [
      "1.30.0\n",
      "\n",
      "succesfully loaded QSSA_PSI :D\n"
     ]
    }
   ],
   "source": [
    "# run the header that sets up the environment\n",
    "\n",
    "already_run = globals().get(\"already_run\", False)\n",
    "if not (already_run):\n",
    "    print(\"Running the header\")\n",
    "    already_run = True\n",
    "    %run header.ipynb\n",
    "\n",
    "    load_packages()\n",
    "    change_wordir()\n",
    "    colors, colours = colourblind_palette()\n",
    "\n",
    "model = \"cyclic_2021\"\n",
    "model = \"new_PSI\"\n",
    "model = \"latest_dev\"\n",
    "model = \"explicit_PSI\"\n",
    "model = \"QSSA_PSI\"\n",
    "\n",
    "m = load_model(model)"
   ]
  },
  {
   "cell_type": "markdown",
   "metadata": {},
   "source": [
    "# Model"
   ]
  },
  {
   "cell_type": "code",
   "execution_count": 2,
   "metadata": {},
   "outputs": [
    {
     "data": {
      "application/vnd.microsoft.datawrangler.viewer.v0+json": {
       "columns": [
        {
         "name": "index",
         "rawType": "object",
         "type": "string"
        },
        {
         "name": "vB01",
         "rawType": "float64",
         "type": "float"
        },
        {
         "name": "vB10F",
         "rawType": "float64",
         "type": "float"
        },
        {
         "name": "vB10Q",
         "rawType": "float64",
         "type": "float"
        },
        {
         "name": "vB12",
         "rawType": "float64",
         "type": "float"
        },
        {
         "name": "vB20",
         "rawType": "float64",
         "type": "float"
        },
        {
         "name": "vB23",
         "rawType": "float64",
         "type": "float"
        },
        {
         "name": "vB32F",
         "rawType": "float64",
         "type": "float"
        },
        {
         "name": "vB32Q",
         "rawType": "float64",
         "type": "float"
        },
        {
         "name": "vB6f",
         "rawType": "float64",
         "type": "float"
        },
        {
         "name": "vCyc",
         "rawType": "float64",
         "type": "float"
        },
        {
         "name": "vNDH",
         "rawType": "float64",
         "type": "float"
        },
        {
         "name": "vPTOX",
         "rawType": "float64",
         "type": "float"
        }
       ],
       "conversionMethod": "pd.DataFrame",
       "ref": "762dcc78-9719-4f40-8b82-b01ff7171ec2",
       "rows": [
        [
         "B0",
         "-1.0",
         "1.0",
         "1.0",
         "0.0",
         "1.0",
         "0.0",
         "0.0",
         "0.0",
         "0.0",
         "0.0",
         "0.0",
         "0.0"
        ],
        [
         "B1",
         "1.0",
         "-1.0",
         "-1.0",
         "-1.0",
         "0.0",
         "0.0",
         "0.0",
         "0.0",
         "0.0",
         "0.0",
         "0.0",
         "0.0"
        ],
        [
         "B2",
         "0.0",
         "0.0",
         "0.0",
         "1.0",
         "-1.0",
         "-1.0",
         "1.0",
         "1.0",
         "0.0",
         "0.0",
         "0.0",
         "0.0"
        ],
        [
         "PQ",
         "0.0",
         "0.0",
         "0.0",
         "0.0",
         "-0.5",
         "0.0",
         "0.0",
         "0.0",
         "1.0",
         "-1.0",
         "-1.0",
         "1.0"
        ]
       ],
       "shape": {
        "columns": 12,
        "rows": 4
       }
      },
      "text/html": [
       "<div>\n",
       "<style scoped>\n",
       "    .dataframe tbody tr th:only-of-type {\n",
       "        vertical-align: middle;\n",
       "    }\n",
       "\n",
       "    .dataframe tbody tr th {\n",
       "        vertical-align: top;\n",
       "    }\n",
       "\n",
       "    .dataframe thead th {\n",
       "        text-align: right;\n",
       "    }\n",
       "</style>\n",
       "<table border=\"1\" class=\"dataframe\">\n",
       "  <thead>\n",
       "    <tr style=\"text-align: right;\">\n",
       "      <th></th>\n",
       "      <th>vB01</th>\n",
       "      <th>vB10F</th>\n",
       "      <th>vB10Q</th>\n",
       "      <th>vB12</th>\n",
       "      <th>vB20</th>\n",
       "      <th>vB23</th>\n",
       "      <th>vB32F</th>\n",
       "      <th>vB32Q</th>\n",
       "      <th>vB6f</th>\n",
       "      <th>vCyc</th>\n",
       "      <th>vNDH</th>\n",
       "      <th>vPTOX</th>\n",
       "    </tr>\n",
       "  </thead>\n",
       "  <tbody>\n",
       "    <tr>\n",
       "      <th>B0</th>\n",
       "      <td>-1.0</td>\n",
       "      <td>1.0</td>\n",
       "      <td>1.0</td>\n",
       "      <td>0.0</td>\n",
       "      <td>1.0</td>\n",
       "      <td>0.0</td>\n",
       "      <td>0.0</td>\n",
       "      <td>0.0</td>\n",
       "      <td>0.0</td>\n",
       "      <td>0.0</td>\n",
       "      <td>0.0</td>\n",
       "      <td>0.0</td>\n",
       "    </tr>\n",
       "    <tr>\n",
       "      <th>B1</th>\n",
       "      <td>1.0</td>\n",
       "      <td>-1.0</td>\n",
       "      <td>-1.0</td>\n",
       "      <td>-1.0</td>\n",
       "      <td>0.0</td>\n",
       "      <td>0.0</td>\n",
       "      <td>0.0</td>\n",
       "      <td>0.0</td>\n",
       "      <td>0.0</td>\n",
       "      <td>0.0</td>\n",
       "      <td>0.0</td>\n",
       "      <td>0.0</td>\n",
       "    </tr>\n",
       "    <tr>\n",
       "      <th>B2</th>\n",
       "      <td>0.0</td>\n",
       "      <td>0.0</td>\n",
       "      <td>0.0</td>\n",
       "      <td>1.0</td>\n",
       "      <td>-1.0</td>\n",
       "      <td>-1.0</td>\n",
       "      <td>1.0</td>\n",
       "      <td>1.0</td>\n",
       "      <td>0.0</td>\n",
       "      <td>0.0</td>\n",
       "      <td>0.0</td>\n",
       "      <td>0.0</td>\n",
       "    </tr>\n",
       "    <tr>\n",
       "      <th>PQ</th>\n",
       "      <td>0.0</td>\n",
       "      <td>0.0</td>\n",
       "      <td>0.0</td>\n",
       "      <td>0.0</td>\n",
       "      <td>-0.5</td>\n",
       "      <td>0.0</td>\n",
       "      <td>0.0</td>\n",
       "      <td>0.0</td>\n",
       "      <td>1.0</td>\n",
       "      <td>-1.0</td>\n",
       "      <td>-1.0</td>\n",
       "      <td>1.0</td>\n",
       "    </tr>\n",
       "  </tbody>\n",
       "</table>\n",
       "</div>"
      ],
      "text/plain": [
       "    vB01  vB10F  vB10Q  vB12  vB20  vB23  vB32F  vB32Q  vB6f  vCyc  vNDH  \\\n",
       "B0  -1.0    1.0    1.0   0.0   1.0   0.0    0.0    0.0   0.0   0.0   0.0   \n",
       "B1   1.0   -1.0   -1.0  -1.0   0.0   0.0    0.0    0.0   0.0   0.0   0.0   \n",
       "B2   0.0    0.0    0.0   1.0  -1.0  -1.0    1.0    1.0   0.0   0.0   0.0   \n",
       "PQ   0.0    0.0    0.0   0.0  -0.5   0.0    0.0    0.0   1.0  -1.0  -1.0   \n",
       "\n",
       "    vPTOX  \n",
       "B0    0.0  \n",
       "B1    0.0  \n",
       "B2    0.0  \n",
       "PQ    1.0  "
      ]
     },
     "execution_count": 2,
     "metadata": {},
     "output_type": "execute_result"
    }
   ],
   "source": [
    "stoichio_subset = m.get_stoichiometric_df()\n",
    "stoichio_subset = stoichio_subset.loc[[\"B0\", \"B1\", \"B2\", \"PQ\"],:]\n",
    "\n",
    "#stoichio_subset.loc[(stoichio_subset != 0).any(axis = 1)]\n",
    "stoichio_subset.loc[:, (stoichio_subset != 0).any(axis = 0)] # checks in each column, but I want to check in each row\n"
   ]
  },
  {
   "cell_type": "code",
   "execution_count": 3,
   "metadata": {},
   "outputs": [
    {
     "name": "stdout",
     "output_type": "stream",
     "text": [
      "fluorescence(Q, B0, B2, ps2cs, k2, kF, kH_factor, kH0) -> ['Fluo']\n"
     ]
    }
   ],
   "source": [
    "#m.get_algebraic_module(\"P700+FA_alm\")\n",
    "print(m.get_algebraic_module(\"fluorescence_alm\"))\n",
    "#m.get_algebraic_module(\"rel_P700+FA_alm\")"
   ]
  },
  {
   "cell_type": "code",
   "execution_count": 3,
   "metadata": {},
   "outputs": [
    {
     "data": {
      "text/plain": [
       "{'vPTOX': 1, 'vNDH': -1, 'vB6f': 1, 'vCyc': -1, 'vB20': -0.5}"
      ]
     },
     "execution_count": 3,
     "metadata": {},
     "output_type": "execute_result"
    }
   ],
   "source": [
    "#m.get_compound_stoichiometry(\"PC\")\n",
    "m.get_compound_stoichiometry(\"PQ\")"
   ]
  },
  {
   "cell_type": "code",
   "execution_count": 6,
   "metadata": {},
   "outputs": [
    {
     "data": {
      "text/plain": [
       "5000000000.0"
      ]
     },
     "execution_count": 6,
     "metadata": {},
     "output_type": "execute_result"
    }
   ],
   "source": [
    "#m.get_parameter(\"k1\")\n",
    "m.get_parameter(\"kH_factor\")"
   ]
  },
  {
   "cell_type": "code",
   "execution_count": 5,
   "metadata": {},
   "outputs": [
    {
     "data": {
      "text/plain": [
       "['B3', 'Q', 'kH_factor', 'kH0']"
      ]
     },
     "execution_count": 5,
     "metadata": {},
     "output_type": "execute_result"
    }
   ],
   "source": [
    "#m.get_rate_args(\"v2_to_P700FA-\")\n",
    "m.get_rate_args(\"vB32Q\")"
   ]
  },
  {
   "cell_type": "code",
   "execution_count": 6,
   "metadata": {},
   "outputs": [
    {
     "data": {
      "text/plain": [
       "2"
      ]
     },
     "execution_count": 6,
     "metadata": {},
     "output_type": "execute_result"
    }
   ],
   "source": [
    "#m.get_rate_function(\"v2_to_P700FA-\")(1,2,3,4,5,6)\n",
    "m.get_rate_function(\"vB32Q\")(1,0,1,2)"
   ]
  },
  {
   "cell_type": "code",
   "execution_count": 4,
   "metadata": {},
   "outputs": [
    {
     "data": {
      "text/plain": [
       "set()"
      ]
     },
     "execution_count": 4,
     "metadata": {},
     "output_type": "execute_result"
    }
   ],
   "source": [
    "m.check_unused_compounds()"
   ]
  },
  {
   "cell_type": "code",
   "execution_count": 5,
   "metadata": {},
   "outputs": [
    {
     "data": {
      "text/plain": [
       "set()"
      ]
     },
     "execution_count": 5,
     "metadata": {},
     "output_type": "execute_result"
    }
   ],
   "source": [
    "m.check_missing_parameters()"
   ]
  },
  {
   "cell_type": "code",
   "execution_count": 6,
   "metadata": {},
   "outputs": [
    {
     "data": {
      "text/plain": [
       "set()"
      ]
     },
     "execution_count": 6,
     "metadata": {},
     "output_type": "execute_result"
    }
   ],
   "source": [
    "set(m.check_unused_parameters())- {'APX0','ATPcyt','CN','Ca','Ctot','E0_cytf','Keq_cyc','Km161','Km162','Kmnadph','NADPHcyt','bH','dT','k1','k1APX','k1rev','k2APX',\n",
    "                                    'k3APX','k4','k4APX','k5','k5APX','k6','k7','k8','kATPcons','kActATPase','kDeactATPase','kNADPHcons','kNh','kNr','kProtonation','kdeg','krep','nH','pHmedium','prob_attach'}"
   ]
  },
  {
   "cell_type": "markdown",
   "metadata": {},
   "source": [
    "# Simulator"
   ]
  },
  {
   "cell_type": "code",
   "execution_count": 2,
   "metadata": {},
   "outputs": [],
   "source": [
    "y0 = {\n",
    "    \"PQ\": 11.027139850905353,\"PC\": 1.8895071932002812,\"Fd\": 3.8690237263896705,\"ATP\": 1.620195002854852,\"NADPH\": 0.4882103700673736,\"H\": 0.0022147075094596015,\n",
    "    \"LHC\": 0.8023074419510501,\"Psbs\": 0.9607146039898598,\"Vx\": 0.950783616933656,\"PGA\": 0.9913970817549008,\"BPGA\": 0.0005355311557548053,\"GAP\": 0.0062630116252017295,\n",
    "    \"DHAP\": 0.13778623933075737,\"FBP\": 0.006126990841013743,\"F6P\": 0.31166103888161867,\"G6P\": 0.7168203893211117,\"G1P\": 0.041575582577936025,\"SBP\": 0.01311315151803723,\n",
    "    \"S7P\": 0.15782894767619207,\"E4P\": 0.00732079113061801,\"X5P\": 0.022396849486562384,\"R5P\": 0.03751472214765548,\"RUBP\": 0.13153657267999222,\"RU5P\": 0.015005888732707041,\n",
    "    \"MDA\": 5.85270097771621e-06,\"ASC\": 9.999994138785292,\"H2O2\": 3.4273920330125316e-06,\"DHA\": 8.513863740903352e-09,\"GSH\": 9.999999991725186,\"GSSG\": 4.137406632226743e-09,\n",
    "    \"TR_ox\": 0.9,\"E_inactive\": 4.7368421052631575,\n",
    "    \"P700FA\": 1.4731,            #eq at pfd 800       #\"PSItot\": 2.5, (in parameter vector of Matuszynska)\n",
    "    \"P700+FA-\": 0.0131,\n",
    "    \"P700FA-\": 0.0177,\n",
    "    \"B0\": 1,\n",
    "    \"B1\": 0.25,\n",
    "    \"B2\": 1\n",
    "}\n",
    "\n",
    "y0 = {'P700FA': 2.5,\n",
    "    'P700pFAm': 0.0,\n",
    "    'P700FAm': 0.0,\n",
    "    'PC': 0,\n",
    "    'Fd': 5.0,\n",
    "    'ps2cs': 0.525}\n"
   ]
  },
  {
   "cell_type": "code",
   "execution_count": 3,
   "metadata": {},
   "outputs": [
    {
     "name": "stderr",
     "output_type": "stream",
     "text": [
      "DeprecationWarning: Conversion of an array with ndim > 0 to a scalar is deprecated, and will error in future. Ensure you extract a single element from your array before performing this operation. (Deprecated NumPy 1.25.)\n"
     ]
    }
   ],
   "source": [
    "s = Simulator(m)\n",
    "s.initialise(y0)\n",
    "t_end = 0.3\n",
    "steps_per_second = 100\n",
    "\n",
    "steps = steps_per_second * t_end\n",
    "\n",
    "pfd = 100\n",
    "s.update_parameter(\"pfd\", pfd)\n",
    "\n",
    "_ = s.simulate(t_end = t_end, steps = steps)"
   ]
  },
  {
   "cell_type": "code",
   "execution_count": 4,
   "metadata": {},
   "outputs": [
    {
     "data": {
      "text/plain": [
       "<Axes: >"
      ]
     },
     "execution_count": 4,
     "metadata": {},
     "output_type": "execute_result"
    },
    {
     "data": {
      "image/png": "[encoded data removed]",
      "text/plain": [
       "<Figure size 1500x1000 with 1 Axes>"
      ]
     },
     "metadata": {},
     "output_type": "display_data"
    }
   ],
   "source": [
    "s.get_full_results_df().plot(figsize = (15,10))"
   ]
  },
  {
   "cell_type": "code",
   "execution_count": 34,
   "metadata": {},
   "outputs": [
    {
     "data": {
      "text/plain": [
       "{'P700FA': np.float64(2.5),\n",
       " 'P700+FA-': np.float64(0.0),\n",
       " 'P700FA-': np.float64(0.0),\n",
       " 'PC': np.float64(0.0),\n",
       " 'Fd': np.float64(5.0),\n",
       " 'ps2cs': np.float64(0.525)}"
      ]
     },
     "execution_count": 34,
     "metadata": {},
     "output_type": "execute_result"
    }
   ],
   "source": [
    "s.get_new_y0()"
   ]
  },
  {
   "cell_type": "code",
   "execution_count": 9,
   "metadata": {},
   "outputs": [],
   "source": [
    "results = s.get_full_results_df()"
   ]
  },
  {
   "cell_type": "markdown",
   "metadata": {},
   "source": [
    "# check if results are identical"
   ]
  },
  {
   "cell_type": "code",
   "execution_count": null,
   "metadata": {},
   "outputs": [],
   "source": [
    "results"
   ]
  },
  {
   "cell_type": "code",
   "execution_count": null,
   "metadata": {},
   "outputs": [],
   "source": [
    "results2"
   ]
  },
  {
   "cell_type": "code",
   "execution_count": 11,
   "metadata": {},
   "outputs": [
    {
     "data": {
      "text/plain": [
       "['result_weird_function.pkl']"
      ]
     },
     "execution_count": 11,
     "metadata": {},
     "output_type": "execute_result"
    }
   ],
   "source": [
    "joblib.dump(results, \"result_weird_function.pkl\")"
   ]
  },
  {
   "cell_type": "code",
   "execution_count": 9,
   "metadata": {},
   "outputs": [],
   "source": [
    "results2 = joblib.load(\"result_weird_function.pkl\")"
   ]
  },
  {
   "cell_type": "code",
   "execution_count": 10,
   "metadata": {},
   "outputs": [
    {
     "data": {
      "text/plain": [
       "np.True_"
      ]
     },
     "execution_count": 10,
     "metadata": {},
     "output_type": "execute_result"
    }
   ],
   "source": [
    "(results2 == results).all().all()"
   ]
  }
 ],
 "metadata": {
  "kernelspec": {
   "display_name": "modelbase.1.30.0",
   "language": "python",
   "name": "python3"
  },
  "language_info": {
   "codemirror_mode": {
    "name": "ipython",
    "version": 3
   },
   "file_extension": ".py",
   "mimetype": "text/x-python",
   "name": "python",
   "nbconvert_exporter": "python",
   "pygments_lexer": "ipython3",
   "version": "3.9.21"
  }
 },
 "nbformat": 4,
 "nbformat_minor": 2
}
