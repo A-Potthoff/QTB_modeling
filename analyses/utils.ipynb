{
 "cells": [
  {
   "cell_type": "code",
   "execution_count": null,
   "metadata": {},
   "outputs": [],
   "source": [
    "def get_avg(s, T_END):\n",
    "    \"\"\"\n",
    "    Compute the average values of concentrations and fluxes over the last 25% of the simulation time.\n",
    "    \"\"\"\n",
    "    \n",
    "    c = s.get_full_results_df()\n",
    "    v = s.get_fluxes_df()\n",
    "    \n",
    "    # Compute the average fluxes over the last 25% of the simulation\n",
    "    vavg = pd.Series(\n",
    "        integrate.trapezoid(\n",
    "            v.loc[T_END*0.75:,:],  # Select the last 25% of the time range\n",
    "            x=v.loc[T_END*0.75:,:].index,  # Use time as the x-axis\n",
    "            axis=0\n",
    "        ) / (T_END - v.loc[T_END*0.75:,:].index.min()),  # Normalize by time range\n",
    "        index=v.columns  # Assign column names\n",
    "    )\n",
    "\n",
    "    # Compute the average concentrations over the last 25% of the simulation\n",
    "    cavg = pd.Series(\n",
    "        integrate.trapezoid(\n",
    "            c.loc[T_END*0.75:,:],  # Select the last 25% of the time range\n",
    "            x=c.loc[T_END*0.75:,:].index,  # Use time as the x-axis\n",
    "            axis=0\n",
    "        ) / (T_END - v.loc[T_END*0.75:,:].index.min()),  # Normalize by time range\n",
    "        index=c.columns  # Assign column names\n",
    "    )\n",
    "\n",
    "    return cavg.T, vavg.T  # Return the transposed averages of concentrations and fluxes\n"
   ]
  },
  {
   "cell_type": "code",
   "execution_count": null,
   "metadata": {},
   "outputs": [],
   "source": [
    "def get_minmax(s,T_END):\n",
    "    c = s.get_full_results_df()\n",
    "    v = s.get_fluxes_df()\n",
    "    \n",
    "    cmin = c.loc[T_END*0.75:,:].min()\n",
    "    cmax = c.loc[T_END*0.75:,:].max()\n",
    "    vmin = v.loc[T_END*0.75:,:].min()\n",
    "    vmax = v.loc[T_END*0.75:,:].max()\n",
    "    \n",
    "    return cmin, cmax, vmin, vmax"
   ]
  },
  {
   "cell_type": "code",
   "execution_count": null,
   "metadata": {},
   "outputs": [],
   "source": []
  },
  {
   "cell_type": "code",
   "execution_count": null,
   "metadata": {},
   "outputs": [],
   "source": []
  },
  {
   "cell_type": "markdown",
   "metadata": {},
   "source": [
    "# codes no longer used but I dont wanna delete them "
   ]
  },
  {
   "cell_type": "markdown",
   "metadata": {},
   "source": [
    "## plot fluorescence from stst. script"
   ]
  },
  {
   "cell_type": "code",
   "execution_count": null,
   "metadata": {},
   "outputs": [],
   "source": [
    "# ELECTRON CARRIERS\n",
    "ctmp = c\n",
    "\n",
    "fig, ax1 = plt.subplots(1, 1, figsize=(10, 6))\n",
    "ax2 = ax1.twinx()  # instantiate a second axes that shares the same x-axis\n",
    "\n",
    "ax1.plot(ctmp[\"Fluo\"], label=\"fluo\", color=colors[0])\n",
    "\n",
    "ax2.plot(ctmp[\"Q\"], label=\"Q\", color=colors[1])\n",
    "\n",
    "# Set labels and legends\n",
    "ax1.set(title=\"Fluorescence\",\n",
    "        xlabel=\"PFD\",\n",
    "        ylabel=\"\")\n",
    "ax2.set_ylabel(\"metabolite concentration\")\n",
    "\n",
    "# Legends\n",
    "ax1.legend(loc=\"upper left\", bbox_to_anchor=(0.06, 1))\n",
    "ax2.legend(loc=\"upper right\", bbox_to_anchor=(1, 0.1))"
   ]
  }
 ],
 "metadata": {
  "language_info": {
   "name": "python"
  }
 },
 "nbformat": 4,
 "nbformat_minor": 2
}
