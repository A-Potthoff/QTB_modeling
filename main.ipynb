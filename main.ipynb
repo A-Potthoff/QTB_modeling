{
 "cells": [
  {
   "cell_type": "code",
   "execution_count": null,
   "metadata": {},
   "outputs": [],
   "source": [
    "import numpy as np\n",
    "import pandas as pd\n",
    "import matplotlib.pyplot as plt\n",
    "from modelbase.ode import Simulator\n",
    "from model import get_model"
   ]
  },
  {
   "cell_type": "code",
   "execution_count": null,
   "metadata": {},
   "outputs": [],
   "source": [
    "s = Simulator(get_model())\n",
    "s.initialise({\"S\": 0, \"P\": 0})\n",
    "s.simulate(10)\n",
    "fig, ax = s.plot(xlabel=\"time / a.u.\", ylabel=\"Concentration / a.u.\")\n",
    "plt.show()"
   ]
  },
  {
   "cell_type": "code",
   "execution_count": null,
   "metadata": {},
   "outputs": [],
   "source": []
  }
 ],
 "metadata": {
  "kernelspec": {
   "display_name": "py311",
   "language": "python",
   "name": "python3"
  },
  "language_info": {
   "codemirror_mode": {
    "name": "ipython",
    "version": 3
   },
   "file_extension": ".py",
   "mimetype": "text/x-python",
   "name": "python",
   "nbconvert_exporter": "python",
   "pygments_lexer": "ipython3",
   "version": "3.11.0 | packaged by conda-forge | (main, Jan 14 2023, 12:27:40) [GCC 11.3.0]"
  },
  "vscode": {
   "interpreter": {
    "hash": "c813992f229d6dc98e828a9cc5c3417dd6b76ef05b7fb009a87672d1dc7b9ca3"
   }
  }
 },
 "nbformat": 4,
 "nbformat_minor": 2
}
